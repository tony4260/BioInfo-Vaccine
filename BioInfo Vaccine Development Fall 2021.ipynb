{
 "cells": [
  {
   "cell_type": "markdown",
   "metadata": {},
   "source": [
    "# BioInfo Project - Vaccine Development Tool Study"
   ]
  },
  {
   "cell_type": "code",
   "execution_count": 75,
   "metadata": {},
   "outputs": [],
   "source": [
    "import numpy as np\n",
    "import pandas as pd \n",
    "import Bio\n",
    "from Bio import SeqIO\n",
    "#from Bio import Tools\n",
    "#from Bio import Seq this is importing an entire module VICE\n",
    "from Bio.Seq import Seq #this which is importing a class from a module\n",
    "#from Bio.Alphabet import IUPAC\n",
    "#IUPAC.protein\n",
    "#IUPAC.unambiguous_dna"
   ]
  },
  {
   "cell_type": "code",
   "execution_count": 76,
   "metadata": {},
   "outputs": [],
   "source": [
    "from Bio.Seq import Seq\n",
    "from Bio.SeqRecord import SeqRecord\n",
    "#from Bio.Alphabet import generic_protein"
   ]
  },
  {
   "cell_type": "code",
   "execution_count": 77,
   "metadata": {},
   "outputs": [],
   "source": [
    "import itertools"
   ]
  },
  {
   "cell_type": "markdown",
   "metadata": {},
   "source": [
    "### Reading in Files"
   ]
  },
  {
   "cell_type": "code",
   "execution_count": 78,
   "metadata": {},
   "outputs": [],
   "source": [
    "#DATA/229Ebat.fasta\n",
    "a229Ebat = \"DATA/229Ebat.fasta\"\n",
    "a229Ecamel = \"DATA/229Ecamel.fasta\"\n",
    "a229Ehuman = \"DATA/229Ehuman.fasta\"\n",
    "COV19bat = \"DATA/batcovid19.fasta\"\n",
    "COV19human = \"DATA/humancovid19.fasta\"\n",
    "DeltaCOVbird = \"DATA/birddeltacoronavirus.fasta\"\n",
    "GammaCOVbird = \"DATA/birdgammacoronavirus.fasta\"\n",
    "MERScamel = \"DATA/MERScamel.fasta\"\n",
    "MERShuman = \"DATA/MERShuman.fasta\"\n",
    "OC43human = \"DATA/OC43human.fasta\"\n",
    "OC43ape = \"DATA/OC43ape.fasta\"\n",
    "isolate1 = \"DATA/c8P10.fasta\"\n",
    "isolate2 = \"DATA/c15P20.fasta\"\n",
    "isolate3 = \"DATA/c54P20.fasta\"\n",
    "isolateMA15 = \"DATA/SARSMA15mouse.fasta\"\n",
    "RGSARS = \"DATA/refgenomeSARS.fasta\"\n",
    "RGCOV19 = \"DATA/refgenomecovid19.fasta\"\n",
    "SARS1human = \"DATA/SARS1human.fasta\"\n",
    "SARS1bat = \"DATA/SARS1bat.fasta\"\n",
    "#mobat = \"DATA/sequences.fasta\""
   ]
  },
  {
   "cell_type": "code",
   "execution_count": null,
   "metadata": {},
   "outputs": [],
   "source": []
  },
  {
   "cell_type": "code",
   "execution_count": null,
   "metadata": {},
   "outputs": [],
   "source": []
  },
  {
   "cell_type": "code",
   "execution_count": null,
   "metadata": {},
   "outputs": [],
   "source": []
  },
  {
   "cell_type": "code",
   "execution_count": 79,
   "metadata": {},
   "outputs": [],
   "source": [
    "#Make Lists and parse fastas\n",
    "a229EList =[]\n",
    "COV19List = []\n",
    "MERSList = []\n",
    "OC43List = []\n",
    "DeltaList = []\n",
    "GammaList = []\n",
    "isolateList = []\n",
    "refgenList = []\n",
    "SARSList =[]"
   ]
  },
  {
   "cell_type": "markdown",
   "metadata": {},
   "source": [
    "## Set useful info into lists"
   ]
  },
  {
   "cell_type": "markdown",
   "metadata": {},
   "source": [
    "#### 229E"
   ]
  },
  {
   "cell_type": "code",
   "execution_count": 155,
   "metadata": {},
   "outputs": [],
   "source": [
    "for seq_record in SeqIO.parse(a229Ebat, \"fasta\"): #defaults to single letter alphabet\n",
    "    a229EList.append((seq_record.id,seq_record.name,seq_record.description,seq_record.seq,len(seq_record.seq),0))\n",
    "#print(seq1count)"
   ]
  },
  {
   "cell_type": "code",
   "execution_count": 147,
   "metadata": {},
   "outputs": [],
   "source": [
    "'''\n",
    "vvv = [SeqRecord(COV19List[2]), SeqRecord(a229EList[2]), SeqRecord(OC43List[0][0]),\n",
    "       SeqRecord(MERSList[2]), SeqRecord(refgenList[0])]'''"
   ]
  },
  {
   "cell_type": "code",
   "execution_count": 148,
   "metadata": {},
   "outputs": [
    {
     "data": {
      "text/plain": [
       "SeqRecord(seq=('KY073747.1', 'KY073747.1', 'KY073747.1 |229E-related bat coronavirus strain BtKY229E-1, complete genome', Seq('GTGTCTACTCTTCTCAACTAAACGAAATTTTTGCTACGGCCGGCATTTTTGATG...CGA'), 27837, 0), id='<unknown id>', name='<unknown name>', description='<unknown description>', dbxrefs=[])"
      ]
     },
     "execution_count": 148,
     "metadata": {},
     "output_type": "execute_result"
    }
   ],
   "source": [
    "vvv"
   ]
  },
  {
   "cell_type": "code",
   "execution_count": 81,
   "metadata": {},
   "outputs": [],
   "source": [
    "for seq_record in SeqIO.parse(a229Ecamel, \"fasta\"): #defaults to single letter alphabet\n",
    "    a229EList.append((seq_record.id,seq_record.name,seq_record.description,seq_record.seq,len(seq_record.seq),0))"
   ]
  },
  {
   "cell_type": "code",
   "execution_count": 82,
   "metadata": {},
   "outputs": [],
   "source": [
    "for seq_record in SeqIO.parse(a229Ehuman, \"fasta\"): #defaults to single letter alphabet\n",
    "    a229EList.append((seq_record.id,seq_record.name,seq_record.description,seq_record.seq,len(seq_record.seq),3))"
   ]
  },
  {
   "cell_type": "code",
   "execution_count": 159,
   "metadata": {
    "collapsed": true
   },
   "outputs": [
    {
     "data": {
      "text/plain": [
       "[('KY073747.1',\n",
       "  'KY073747.1',\n",
       "  'KY073747.1 |229E-related bat coronavirus strain BtKY229E-1, complete genome',\n",
       "  Seq('GTGTCTACTCTTCTCAACTAAACGAAATTTTTGCTACGGCCGGCATTTTTGATG...CGA'),\n",
       "  27837,\n",
       "  0),\n",
       " ('KT368893.1',\n",
       "  'KT368893.1',\n",
       "  'KT368893.1 |Camel alphacoronavirus isolate camel/Jeddah/Jd55/2014, complete genome',\n",
       "  Seq('ACTTAAGTGTCTTATCTATCTATAGATAGAAAAGTCGCTTTTTAGACTTTGTGT...AAA'),\n",
       "  27386,\n",
       "  0),\n",
       " ('MT118677.1',\n",
       "  'MT118677.1',\n",
       "  'MT118677.1 |Human coronavirus 229E strain 2018_9879, partial genome',\n",
       "  Seq('ACTTAAGTACCTTATCTATCTACAGATAGAAAAGTTGCTTTTTAGACTTTGTGT...ATA'),\n",
       "  27241,\n",
       "  3),\n",
       " ('KY073747.1',\n",
       "  'KY073747.1',\n",
       "  'KY073747.1 |229E-related bat coronavirus strain BtKY229E-1, complete genome',\n",
       "  Seq('GTGTCTACTCTTCTCAACTAAACGAAATTTTTGCTACGGCCGGCATTTTTGATG...CGA'),\n",
       "  27837,\n",
       "  0)]"
      ]
     },
     "execution_count": 159,
     "metadata": {},
     "output_type": "execute_result"
    }
   ],
   "source": [
    "a229EList"
   ]
  },
  {
   "cell_type": "code",
   "execution_count": 160,
   "metadata": {},
   "outputs": [],
   "source": [
    "vvv = SeqRecord(a229EList[0][2],id=\"human a229\",description = \"none\")\n",
    "xxx = SeqRecord(OC43List[0][3],id=\"human a229\",description = \"none\")"
   ]
  },
  {
   "cell_type": "code",
   "execution_count": 161,
   "metadata": {},
   "outputs": [
    {
     "data": {
      "text/plain": [
       "[SeqRecord(seq='KY073747.1 |229E-related bat coronavirus strain BtKY229E-1, complete genome', id='human a229', name='<unknown name>', description='none', dbxrefs=[]),\n",
       " SeqRecord(seq=Seq('CCGCTTCACTGATCTCTTGTTAGATCTTTTTGTAATCTAAACTTTATAAAAACA...GCA'), id='human a229', name='<unknown name>', description='none', dbxrefs=[])]"
      ]
     },
     "execution_count": 161,
     "metadata": {},
     "output_type": "execute_result"
    }
   ],
   "source": [
    "hums = [vvv,xxx]\n",
    "hums"
   ]
  },
  {
   "cell_type": "code",
   "execution_count": 85,
   "metadata": {},
   "outputs": [
    {
     "data": {
      "text/plain": [
       "3"
      ]
     },
     "execution_count": 85,
     "metadata": {},
     "output_type": "execute_result"
    }
   ],
   "source": [
    "len(a229EList)"
   ]
  },
  {
   "cell_type": "markdown",
   "metadata": {},
   "source": [
    "#### COV19"
   ]
  },
  {
   "cell_type": "code",
   "execution_count": 86,
   "metadata": {},
   "outputs": [],
   "source": [
    "for seq_record in SeqIO.parse(COV19bat, \"fasta\"): #defaults to single letter alphabet\n",
    "    COV19List.append((seq_record.id,seq_record.name,seq_record.description,seq_record.seq,len(seq_record.seq),0))"
   ]
  },
  {
   "cell_type": "code",
   "execution_count": 87,
   "metadata": {},
   "outputs": [],
   "source": [
    "for seq_record in SeqIO.parse(COV19human, \"fasta\"): #defaults to single letter alphabet\n",
    "    COV19List.append((seq_record.id,seq_record.name,seq_record.description,seq_record.seq,len(seq_record.seq),7))"
   ]
  },
  {
   "cell_type": "code",
   "execution_count": 88,
   "metadata": {
    "collapsed": true
   },
   "outputs": [
    {
     "data": {
      "text/plain": [
       "[('MG772933.1',\n",
       "  'MG772933.1',\n",
       "  'MG772933.1 |Bat SARS-like coronavirus isolate bat-SL-CoVZC45, complete genome',\n",
       "  Seq('ATATTAGGTTTTTACCTTCCCAGGTAACAAACCAACTAACTCTCGATCTCTTGT...AAA'),\n",
       "  29802,\n",
       "  0),\n",
       " ('NC_045512.2',\n",
       "  'NC_045512.2',\n",
       "  'NC_045512.2 |Severe acute respiratory syndrome coronavirus 2 isolate Wuhan-Hu-1, complete genome',\n",
       "  Seq('ATTAAAGGTTTATACCTTCCCAGGTAACAAACCAACCAACTTTCGATCTCTTGT...AAA'),\n",
       "  29903,\n",
       "  7),\n",
       " ('OL687293.1',\n",
       "  'OL687293.1',\n",
       "  'OL687293.1 |Severe acute respiratory syndrome coronavirus 2 isolate SARS-CoV-2/human/USA/CA-SLOPH-C0455/2021 ORF1ab polyprotein (ORF1ab), ORF1a polyprotein (ORF1ab), surface glycoprotein (S), ORF3a protein (ORF3a), envelope protein (E), membrane glycoprotein (M), ORF6 protein (ORF6), ORF7a protein (ORF7a), and ORF7b (ORF7b) genes, complete cds; ORF8 gene, complete sequence; nucleocapsid phosphoprotein (N) gene, complete cds; and ORF10 protein (ORF10) gene, partial cds',\n",
       "  Seq('AGATCTGTTCTCTAAACGAACTTTAAAATCTGTGTGGCTGTCACTCGGCTGCAT...AAT'),\n",
       "  29598,\n",
       "  7),\n",
       " ('OL664045.1',\n",
       "  'OL664045.1',\n",
       "  'OL664045.1 |Severe acute respiratory syndrome coronavirus 2 isolate SARS-CoV-2/human/CHN/6582/2021 ORF1ab polyprotein (ORF1ab), ORF1a polyprotein (ORF1ab), surface glycoprotein (S), ORF3a protein (ORF3a), envelope protein (E), membrane glycoprotein (M), ORF6 protein (ORF6), ORF7a protein (ORF7a), and ORF7b (ORF7b) genes, complete cds; ORF8 gene, complete sequence; and nucleocapsid phosphoprotein (N) and ORF10 protein (ORF10) genes, complete cds',\n",
       "  Seq('ANCCAACTTTCGATCTCTTGTAGATCTGTTCTCTAAACGAACTTTAAAATCTGT...ATG'),\n",
       "  29795,\n",
       "  7),\n",
       " ('OL677176.1',\n",
       "  'OL677176.1',\n",
       "  'OL677176.1 |Severe acute respiratory syndrome coronavirus 2 isolate SARS-CoV-2/Panthera Leo/SGP/NParks-G11342/2021 ORF1ab polyprotein (ORF1ab), ORF1a polyprotein (ORF1ab), surface glycoprotein (S), ORF3a protein (ORF3a), envelope protein (E), membrane glycoprotein (M), ORF6 protein (ORF6), ORF7a protein (ORF7a), and ORF7b (ORF7b) genes, complete cds; ORF8 gene, complete sequence; and nucleocapsid phosphoprotein (N) and ORF10 protein (ORF10) genes, complete cds',\n",
       "  Seq('CTCTAAACGAACTTTAAAATCTGTGTGGCTGTCACTCGGCTGCATGCTTAGTGC...GCC'),\n",
       "  29733,\n",
       "  7),\n",
       " ('OL677199.1',\n",
       "  'OL677199.1',\n",
       "  'OL677199.1 |Severe acute respiratory syndrome coronavirus 2 isolate SARS-CoV-2/human/CAN/ON-NML-249359/2021 ORF1ab polyprotein (ORF1ab), ORF1a polyprotein (ORF1ab), surface glycoprotein (S), ORF3a protein (ORF3a), envelope protein (E), membrane glycoprotein (M), ORF6 protein (ORF6), and ORF7a protein (ORF7a) genes, complete cds; ORF7b gene, complete sequence; and ORF8 protein (ORF8), nucleocapsid phosphoprotein (N), and ORF10 protein (ORF10) genes, complete cds',\n",
       "  Seq('AGATCTGTTCTCTAAACGAACTTTAAAATCTGTGTGGCTGTCACTCGGCTGCAT...GAA'),\n",
       "  29684,\n",
       "  7),\n",
       " ('OL677207.1',\n",
       "  'OL677207.1',\n",
       "  'OL677207.1 |Severe acute respiratory syndrome coronavirus 2 isolate SARS-CoV-2/human/RUS/VIC01/2021 ORF1ab polyprotein (ORF1ab), ORF1a polyprotein (ORF1ab), surface glycoprotein (S), ORF3a protein (ORF3a), envelope protein (E), membrane glycoprotein (M), ORF6 protein (ORF6), ORF7a protein (ORF7a), ORF7b (ORF7b), and ORF8 protein (ORF8) genes, complete cds; and nucleocapsid phosphoprotein (N) gene, partial cds',\n",
       "  Seq('ATACCTTCCCAGGTAACAAACCAACCAACTTTCGATCTCTTGTAGATCTGTTCT...CCA'),\n",
       "  29493,\n",
       "  7)]"
      ]
     },
     "execution_count": 88,
     "metadata": {},
     "output_type": "execute_result"
    }
   ],
   "source": [
    "COV19List"
   ]
  },
  {
   "cell_type": "code",
   "execution_count": 89,
   "metadata": {},
   "outputs": [
    {
     "data": {
      "text/plain": [
       "7"
      ]
     },
     "execution_count": 89,
     "metadata": {},
     "output_type": "execute_result"
    }
   ],
   "source": [
    "len(COV19List)"
   ]
  },
  {
   "cell_type": "markdown",
   "metadata": {},
   "source": [
    "#### Delta"
   ]
  },
  {
   "cell_type": "code",
   "execution_count": 90,
   "metadata": {},
   "outputs": [],
   "source": [
    "for seq_record in SeqIO.parse(DeltaCOVbird, \"fasta\"): #defaults to single letter alphabet\n",
    "    DeltaList.append((seq_record.id,seq_record.name,seq_record.description,seq_record.seq,len(seq_record.seq),1))"
   ]
  },
  {
   "cell_type": "code",
   "execution_count": 91,
   "metadata": {},
   "outputs": [
    {
     "data": {
      "text/plain": [
       "[('NC_016991.1',\n",
       "  'NC_016991.1',\n",
       "  'NC_016991.1 |White-eye coronavirus HKU16, complete genome',\n",
       "  Seq('GACAAAGCTGAAAATCAATACGTCATACGTATTGCTCAGCCTCTAGCTTCGCTA...AAA'),\n",
       "  26041,\n",
       "  1)]"
      ]
     },
     "execution_count": 91,
     "metadata": {},
     "output_type": "execute_result"
    }
   ],
   "source": [
    "DeltaList"
   ]
  },
  {
   "cell_type": "markdown",
   "metadata": {},
   "source": [
    "#### Gamma"
   ]
  },
  {
   "cell_type": "code",
   "execution_count": 92,
   "metadata": {},
   "outputs": [],
   "source": [
    "for seq_record in SeqIO.parse(GammaCOVbird, \"fasta\"): #defaults to single letter alphabet\n",
    "    GammaList.append((seq_record.id,seq_record.name,seq_record.description,seq_record.seq,len(seq_record.seq),1))"
   ]
  },
  {
   "cell_type": "code",
   "execution_count": 93,
   "metadata": {},
   "outputs": [
    {
     "data": {
      "text/plain": [
       "[('AY945840.1',\n",
       "  'AY945840.1',\n",
       "  'AY945840.1 |Avian infectious bronchitis virus from China membrane protein mRNA, partial cds',\n",
       "  Seq('ATTCCAAAGCGGAAATAAGAAAAGGTTTGCTACATTTGTCTATGCAAAGCAGTC...TAC'),\n",
       "  649,\n",
       "  1)]"
      ]
     },
     "execution_count": 93,
     "metadata": {},
     "output_type": "execute_result"
    }
   ],
   "source": [
    "GammaList"
   ]
  },
  {
   "cell_type": "markdown",
   "metadata": {},
   "source": [
    "#### OC43"
   ]
  },
  {
   "cell_type": "code",
   "execution_count": 94,
   "metadata": {},
   "outputs": [],
   "source": [
    "for seq_record in SeqIO.parse(OC43human, \"fasta\"): #defaults to single letter alphabet\n",
    "    OC43List.append((seq_record.id,seq_record.name,seq_record.description,seq_record.seq,len(seq_record.seq),0))"
   ]
  },
  {
   "cell_type": "code",
   "execution_count": 95,
   "metadata": {},
   "outputs": [],
   "source": [
    "for seq_record in SeqIO.parse(OC43ape, \"fasta\"): #defaults to single letter alphabet\n",
    "    OC43List.append((seq_record.id,seq_record.name,seq_record.description,seq_record.seq,len(seq_record.seq),5))"
   ]
  },
  {
   "cell_type": "code",
   "execution_count": 96,
   "metadata": {
    "collapsed": true
   },
   "outputs": [
    {
     "data": {
      "text/plain": [
       "[('OK500299.1',\n",
       "  'OK500299.1',\n",
       "  'OK500299.1 |Human coronavirus OC43 strain OC43/China/55/2019, complete genome',\n",
       "  Seq('CCGCTTCACTGATCTCTTGTTAGATCTTTTTGTAATCTAAACTTTATAAAAACA...GCA'),\n",
       "  30618,\n",
       "  0),\n",
       " ('MW202339.1',\n",
       "  'MW202339.1',\n",
       "  'MW202339.1 |Human coronavirus OC43 isolate OC43_S219, complete genome',\n",
       "  Seq('TGCGTGCGTGCATCCCGCTTCACTGATCTCTTGTTAGATCTTTTTGTAATCTAA...GGT'),\n",
       "  28861,\n",
       "  0),\n",
       " ('MG977444.1',\n",
       "  'MG977444.1',\n",
       "  'MG977444.1 |Human coronavirus OC43 isolate TNP F1778_2, complete genome',\n",
       "  Seq('TGCTGTTAACAGCTTTCAGCCAGGGACGTGTTGTATCCTAGGCAGTGGCCCTCC...CAA'),\n",
       "  30571,\n",
       "  5),\n",
       " ('OK500299.1',\n",
       "  'OK500299.1',\n",
       "  'OK500299.1 |Human coronavirus OC43 strain OC43/China/55/2019, complete genome',\n",
       "  Seq('CCGCTTCACTGATCTCTTGTTAGATCTTTTTGTAATCTAAACTTTATAAAAACA...GCA'),\n",
       "  30618,\n",
       "  5),\n",
       " ('MW202339.1',\n",
       "  'MW202339.1',\n",
       "  'MW202339.1 |Human coronavirus OC43 isolate OC43_S219, complete genome',\n",
       "  Seq('TGCGTGCGTGCATCCCGCTTCACTGATCTCTTGTTAGATCTTTTTGTAATCTAA...GGT'),\n",
       "  28861,\n",
       "  5)]"
      ]
     },
     "execution_count": 96,
     "metadata": {},
     "output_type": "execute_result"
    }
   ],
   "source": [
    "OC43List"
   ]
  },
  {
   "cell_type": "markdown",
   "metadata": {},
   "source": [
    "#### MERS"
   ]
  },
  {
   "cell_type": "code",
   "execution_count": 97,
   "metadata": {},
   "outputs": [],
   "source": [
    "for seq_record in SeqIO.parse(MERScamel, \"fasta\"): #defaults to single letter alphabet\n",
    "    MERSList.append((seq_record.id,seq_record.name,seq_record.description,seq_record.seq,len(seq_record.seq),0))"
   ]
  },
  {
   "cell_type": "code",
   "execution_count": 98,
   "metadata": {},
   "outputs": [],
   "source": [
    "for seq_record in SeqIO.parse(MERShuman, \"fasta\"): #defaults to single letter alphabet\n",
    "    MERSList.append((seq_record.id,seq_record.name,seq_record.description,seq_record.seq,len(seq_record.seq),2))"
   ]
  },
  {
   "cell_type": "code",
   "execution_count": 99,
   "metadata": {
    "collapsed": true
   },
   "outputs": [
    {
     "data": {
      "text/plain": [
       "[('MT226600.1',\n",
       "  'MT226600.1',\n",
       "  'MT226600.1 |Middle East respiratory syndrome-related coronavirus isolate Camel/B8-03, complete genome',\n",
       "  Seq('GATTTAAGTGAATAGCTTGGCTATCTCACTTCCCCTCGTTCTCTTGCAGAACTT...AAA'),\n",
       "  30118,\n",
       "  0),\n",
       " ('NC_038294.1',\n",
       "  'NC_038294.1',\n",
       "  'NC_038294.1 |Betacoronavirus England 1 isolate H123990006, complete genome',\n",
       "  Seq('ATTTAAGTGAATAGCTTGGCTATCTCACTTCCCCTCGTTCTCTTGCAGAACTTT...AAA'),\n",
       "  30111,\n",
       "  2)]"
      ]
     },
     "execution_count": 99,
     "metadata": {},
     "output_type": "execute_result"
    }
   ],
   "source": [
    "MERSList"
   ]
  },
  {
   "cell_type": "markdown",
   "metadata": {},
   "source": [
    "#### isolates"
   ]
  },
  {
   "cell_type": "code",
   "execution_count": 100,
   "metadata": {},
   "outputs": [],
   "source": [
    "for seq_record in SeqIO.parse(isolate1, \"fasta\"): #defaults to single letter alphabet\n",
    "    isolateList.append((seq_record.id,seq_record.name,seq_record.description,seq_record.seq,len(seq_record.seq),0))"
   ]
  },
  {
   "cell_type": "code",
   "execution_count": 101,
   "metadata": {},
   "outputs": [],
   "source": [
    "for seq_record in SeqIO.parse(isolate2, \"fasta\"): #defaults to single letter alphabet\n",
    "    isolateList.append((seq_record.id,seq_record.name,seq_record.description,seq_record.seq,len(seq_record.seq),0))"
   ]
  },
  {
   "cell_type": "code",
   "execution_count": 102,
   "metadata": {},
   "outputs": [],
   "source": [
    "for seq_record in SeqIO.parse(isolate3, \"fasta\"): #defaults to single letter alphabet\n",
    "    isolateList.append((seq_record.id,seq_record.name,seq_record.description,seq_record.seq,len(seq_record.seq),0))"
   ]
  },
  {
   "cell_type": "code",
   "execution_count": 103,
   "metadata": {},
   "outputs": [],
   "source": [
    "for seq_record in SeqIO.parse(isolateMA15, \"fasta\"): #defaults to single letter alphabet\n",
    "    isolateList.append((seq_record.id,seq_record.name,seq_record.description,seq_record.seq,len(seq_record.seq),4))"
   ]
  },
  {
   "cell_type": "code",
   "execution_count": 104,
   "metadata": {
    "collapsed": true
   },
   "outputs": [
    {
     "data": {
      "text/plain": [
       "[('KF514389.1',\n",
       "  'KF514389.1',\n",
       "  'KF514389.1 |SARS coronavirus ExoN1 strain SARS/VeroE6_lab/USA/ExoN1_c8P10/2009, complete genome',\n",
       "  Seq('CAGGAAAAGCCAACCAACCTCGATCTCTTGTAGATCTGTTCTCTAAACGAACTT...TAA'),\n",
       "  29687,\n",
       "  0),\n",
       " ('KF514388.1',\n",
       "  'KF514388.1',\n",
       "  'KF514388.1 |SARS coronavirus wtic-MB strain SARS/VeroE6_lab/USA/WTic_c1.5P20/2010, complete genome',\n",
       "  Seq('CAGGAAAAGCCAACCAACCTCGATCTCTTGTAGATCTGTTCTCTAAACGAACTT...TAA'),\n",
       "  29687,\n",
       "  0),\n",
       " ('KF514390.1',\n",
       "  'KF514390.1',\n",
       "  'KF514390.1 |SARS coronavirus ExoN1 strain SARS/VeroE6_lab/USA/ExoN1_c5.4P20/2010, complete genome',\n",
       "  Seq('CAGGAAAAGCCAACCAACCTCGATCTCTTGTAGATCTGTTCTCTAAACGAACTT...TAA'),\n",
       "  29687,\n",
       "  0),\n",
       " ('HQ890541.1',\n",
       "  'HQ890541.1',\n",
       "  'HQ890541.1 |SARS coronavirus MA15 isolate d2ym1, complete genome',\n",
       "  Seq('CGATCTCTTGTAGATCTGTTCTCTAAACGAACTTTAAAATCTGTGTAGCTGTCG...AGT'),\n",
       "  29646,\n",
       "  4)]"
      ]
     },
     "execution_count": 104,
     "metadata": {},
     "output_type": "execute_result"
    }
   ],
   "source": [
    "isolateList"
   ]
  },
  {
   "cell_type": "markdown",
   "metadata": {},
   "source": [
    "#### SARS"
   ]
  },
  {
   "cell_type": "code",
   "execution_count": 105,
   "metadata": {},
   "outputs": [],
   "source": [
    "#### SARS\n",
    "for seq_record in SeqIO.parse(a229Ecamel, \"fasta\"): #defaults to single letter alphabet\n",
    "    SARSList.append((seq_record.id,seq_record.name,seq_record.description,seq_record.seq,len(seq_record.seq),0))"
   ]
  },
  {
   "cell_type": "code",
   "execution_count": 106,
   "metadata": {},
   "outputs": [],
   "source": [
    "for seq_record in SeqIO.parse(a229Ecamel, \"fasta\"): #defaults to single letter alphabet\n",
    "    SARSList.append((seq_record.id,seq_record.name,seq_record.description,seq_record.seq,len(seq_record.seq),2))"
   ]
  },
  {
   "cell_type": "code",
   "execution_count": 107,
   "metadata": {
    "collapsed": true
   },
   "outputs": [
    {
     "data": {
      "text/plain": [
       "[('KT368893.1',\n",
       "  'KT368893.1',\n",
       "  'KT368893.1 |Camel alphacoronavirus isolate camel/Jeddah/Jd55/2014, complete genome',\n",
       "  Seq('ACTTAAGTGTCTTATCTATCTATAGATAGAAAAGTCGCTTTTTAGACTTTGTGT...AAA'),\n",
       "  27386,\n",
       "  0),\n",
       " ('KT368893.1',\n",
       "  'KT368893.1',\n",
       "  'KT368893.1 |Camel alphacoronavirus isolate camel/Jeddah/Jd55/2014, complete genome',\n",
       "  Seq('ACTTAAGTGTCTTATCTATCTATAGATAGAAAAGTCGCTTTTTAGACTTTGTGT...AAA'),\n",
       "  27386,\n",
       "  2)]"
      ]
     },
     "execution_count": 107,
     "metadata": {},
     "output_type": "execute_result"
    }
   ],
   "source": [
    "SARSList"
   ]
  },
  {
   "cell_type": "markdown",
   "metadata": {},
   "source": [
    "#### Reference Genomes"
   ]
  },
  {
   "cell_type": "code",
   "execution_count": 108,
   "metadata": {},
   "outputs": [],
   "source": [
    "for seq_record in SeqIO.parse(RGSARS, \"fasta\"): #defaults to single letter alphabet\n",
    "    refgenList.append((seq_record.id,seq_record.name,seq_record.description,seq_record.seq,len(seq_record.seq),0))"
   ]
  },
  {
   "cell_type": "code",
   "execution_count": 109,
   "metadata": {},
   "outputs": [],
   "source": [
    "for seq_record in SeqIO.parse(RGCOV19, \"fasta\"): #defaults to single letter alphabet\n",
    "    refgenList.append((seq_record.id,seq_record.name,seq_record.description,seq_record.seq,len(seq_record.seq),2))"
   ]
  },
  {
   "cell_type": "code",
   "execution_count": null,
   "metadata": {},
   "outputs": [],
   "source": []
  },
  {
   "cell_type": "code",
   "execution_count": 110,
   "metadata": {
    "collapsed": true
   },
   "outputs": [
    {
     "data": {
      "text/plain": [
       "[('NC_045512.2',\n",
       "  'NC_045512.2',\n",
       "  'NC_045512.2 |Severe acute respiratory syndrome coronavirus 2 isolate Wuhan-Hu-1, complete genome',\n",
       "  Seq('ATTAAAGGTTTATACCTTCCCAGGTAACAAACCAACCAACTTTCGATCTCTTGT...AAA'),\n",
       "  29903,\n",
       "  0),\n",
       " ('NC_045512.2',\n",
       "  'NC_045512.2',\n",
       "  'NC_045512.2 |Severe acute respiratory syndrome coronavirus 2 isolate Wuhan-Hu-1, complete genome',\n",
       "  Seq('ATTAAAGGTTTATACCTTCCCAGGTAACAAACCAACCAACTTTCGATCTCTTGT...AAA'),\n",
       "  29903,\n",
       "  2)]"
      ]
     },
     "execution_count": 110,
     "metadata": {},
     "output_type": "execute_result"
    }
   ],
   "source": [
    "refgenList"
   ]
  },
  {
   "cell_type": "code",
   "execution_count": 150,
   "metadata": {},
   "outputs": [],
   "source": [
    "human_multi_list = [SeqRecord(COV19List[2]), SeqRecord(a229EList[2]), SeqRecord(OC43List[0][0]),\n",
    "       SeqRecord(MERSList[1]), SeqRecord(refgenList[0])]"
   ]
  },
  {
   "cell_type": "code",
   "execution_count": 111,
   "metadata": {},
   "outputs": [],
   "source": [
    "#This is chain T\n",
    "\n",
    "##pdb|7DFH|T Chain T, Structure of COVID-19 RNA-dependent RNA polymerase bound to ribavirin\n",
    "##NCCCCACATAGC"
   ]
  },
  {
   "cell_type": "code",
   "execution_count": 38,
   "metadata": {},
   "outputs": [],
   "source": [
    "##Chain G\n",
    "\n",
    "##pdb|7BZF|G Chain G, COVID-19 RNA-dependent RNA polymerase post-translocated catalytic complex\n",
    "##TGTTCGACGACACA"
   ]
  },
  {
   "cell_type": "code",
   "execution_count": 39,
   "metadata": {},
   "outputs": [],
   "source": [
    "##Chain P\n",
    "\n",
    "##pdb|7DFH|P Chain P, Structure of COVID-19 RNA-dependent RNA polymerase bound to ribavirin\n",
    "##NCTATGTG"
   ]
  },
  {
   "cell_type": "code",
   "execution_count": 40,
   "metadata": {},
   "outputs": [],
   "source": [
    "##Micro RNA COVID19\n",
    "\n",
    "##NR_039729.1 Homo sapiens microRNA 2392 (MIR2392), microRNA\n",
    "##ATGGTCCCTCCCAATCCAGCCATTCCTCAGACCAGGTGGCTCCCGAGCCACCCCAGGCTGTAGGATGGGG\n",
    "##GTGAGAGGTGCTAG"
   ]
  },
  {
   "cell_type": "code",
   "execution_count": 145,
   "metadata": {},
   "outputs": [],
   "source": [
    "##Spike Protein!!!!\n",
    "\n",
    "\n",
    "##MT232872.1 Severe acute respiratory syndrome coronavirus 2 isolate SARS-CoV-2/human/IRN/MHKN-2/2020 surface glycoprotein (S) gene, partial cds\n",
    "##TCCTACTAAATTAAATGATCTCTGCTTTACTAATGTCTATGCAGATTCATTTGTAATTAGAGGTGATGAA\n",
    "##GTCAGACAAATCGCTCCAGGGCAAACTGGAAAGATTGCTGATTATAATTATAAATTACCAGATGATTTTA\n",
    "##CAGGCTGCGTTATAGCTT"
   ]
  },
  {
   "cell_type": "markdown",
   "metadata": {},
   "source": [
    "# Alignments"
   ]
  },
  {
   "cell_type": "markdown",
   "metadata": {},
   "source": [
    "## PairwiseAligner"
   ]
  },
  {
   "cell_type": "code",
   "execution_count": 112,
   "metadata": {},
   "outputs": [],
   "source": [
    "from Bio import Align\n",
    "from Bio import AlignIO\n",
    "local_aligner = Align.PairwiseAligner()\n",
    "global_aligner = Align.PairwiseAligner()\n",
    "local_aligner.mode='local'\n",
    "global_aligner.mode='global'"
   ]
  },
  {
   "cell_type": "markdown",
   "metadata": {},
   "source": [
    "The following alignments look from virus to virus from humans, to animals, and similar viruses. The scoring used is based on multiple sources, but highly influenced by Dr's Vladimir Trifonov and Raul Rabadan paper entitled: \"Frequency Analysis Techniques for Identification of Viral Genetic Data\"\n",
    "\n",
    "https://www.ncbi.nlm.nih.gov/pmc/articles/PMC2932508/\n",
    "\n",
    "\n"
   ]
  },
  {
   "cell_type": "code",
   "execution_count": 113,
   "metadata": {},
   "outputs": [],
   "source": [
    "#aligner.mode = 'local'\n",
    "#aligner.mode = 'global'"
   ]
  },
  {
   "cell_type": "code",
   "execution_count": 114,
   "metadata": {},
   "outputs": [],
   "source": [
    "human_main = COV19List[1][3]\n",
    "delta = DeltaList[0][3]\n",
    "gamma = GammaList[0][3]\n",
    "oc43hum = OC43List[0][3]\n",
    "oc43ape = OC43List[4][3]\n",
    "merscam = MERSList[0][3]\n",
    "mershum = MERSList[1][3]\n",
    "sarshum = SARSList[1][3]\n",
    "sarsbat = SARSList[0][3]"
   ]
  },
  {
   "cell_type": "code",
   "execution_count": 115,
   "metadata": {},
   "outputs": [],
   "source": [
    "compare_list = [delta,gamma,oc43hum,oc43ape,merscam,mershum,sarshum,sarsbat]"
   ]
  },
  {
   "cell_type": "code",
   "execution_count": 116,
   "metadata": {},
   "outputs": [],
   "source": [
    "global_score_list = []\n",
    "for x in compare_list:\n",
    "    score = global_aligner.score(human_main, x)\n",
    "    global_score_list.append(score)\n"
   ]
  },
  {
   "cell_type": "code",
   "execution_count": 117,
   "metadata": {},
   "outputs": [
    {
     "data": {
      "text/plain": [
       "[18817.0, 639.0, 20812.0, 20265.0, 20905.0, 20899.0, 19607.0, 19607.0]"
      ]
     },
     "execution_count": 117,
     "metadata": {},
     "output_type": "execute_result"
    }
   ],
   "source": [
    "global_score_list"
   ]
  },
  {
   "cell_type": "code",
   "execution_count": 118,
   "metadata": {},
   "outputs": [
    {
     "data": {
      "text/plain": [
       "20905.0"
      ]
     },
     "execution_count": 118,
     "metadata": {},
     "output_type": "execute_result"
    }
   ],
   "source": [
    "max(global_score_list)"
   ]
  },
  {
   "cell_type": "code",
   "execution_count": 119,
   "metadata": {},
   "outputs": [],
   "source": [
    "local_score_list = []\n",
    "for x in compare_list:\n",
    "    score = local_aligner.score(human_main, x)\n",
    "    local_score_list.append(score)"
   ]
  },
  {
   "cell_type": "code",
   "execution_count": 120,
   "metadata": {},
   "outputs": [
    {
     "data": {
      "text/plain": [
       "[18817.0, 639.0, 20812.0, 20265.0, 20905.0, 20899.0, 19607.0, 19607.0]"
      ]
     },
     "execution_count": 120,
     "metadata": {},
     "output_type": "execute_result"
    }
   ],
   "source": [
    "local_score_list"
   ]
  },
  {
   "cell_type": "code",
   "execution_count": 121,
   "metadata": {},
   "outputs": [
    {
     "data": {
      "image/png": "[encoded data removed]",
      "text/plain": [
       "<Figure size 792x504 with 1 Axes>"
      ]
     },
     "metadata": {
      "needs_background": "light"
     },
     "output_type": "display_data"
    }
   ],
   "source": [
    "import matplotlib.pyplot as plt\n",
    "from matplotlib.pyplot import figure\n",
    "\n",
    "#figure(figsize=(15,15), dpi=80)\n",
    "#f = plt.figure()\n",
    "#f.set_figwidth(4)\n",
    "#f.set_figheight(1)\n",
    "\n",
    "fig = plt.figure()\n",
    "fig.set_figwidth(11)\n",
    "fig.set_figheight(7)\n",
    "ax = fig.add_axes([0,0,1,1])\n",
    "virus = [\"Delta CoV\",\n",
    "         \"Gamma CoV\",\n",
    "         \"OC43 Human\",\n",
    "         \"OC43 Ape\",\n",
    "         \"MERS Camel\",\n",
    "         \"MERS Human\",\n",
    "         \"SARS Human\",\n",
    "         \"SARS Bat\"]\n",
    "align_score = global_score_list\n",
    "ax.bar(virus,align_score)\n",
    "plt.ylim([18000,22000])\n",
    "plt.show()"
   ]
  },
  {
   "cell_type": "markdown",
   "metadata": {},
   "source": [
    "## Camel SARS proves to have the highest global alignment score"
   ]
  },
  {
   "cell_type": "markdown",
   "metadata": {},
   "source": [
    "### Dot Plot -- errors found"
   ]
  },
  {
   "cell_type": "code",
   "execution_count": 122,
   "metadata": {},
   "outputs": [
    {
     "data": {
      "text/plain": [
       "'\\nseqa = SARSList[0][3]\\nseqb = SARSList[1][3]\\nseqc = seqa[0:100]\\nseqd = seqb[0:100]\\n'"
      ]
     },
     "execution_count": 122,
     "metadata": {},
     "output_type": "execute_result"
    }
   ],
   "source": [
    "seqa = human_main[0:1000]  #[0:1000]\n",
    "#seqb = huma\n",
    "seqb = merscam[0:1000]  #t[0:1000]\n",
    "\n",
    "'''\n",
    "seqa = SARSList[0][3]\n",
    "seqb = SARSList[1][3]\n",
    "seqc = seqa[0:100]\n",
    "seqd = seqb[0:100]\n",
    "'''"
   ]
  },
  {
   "cell_type": "code",
   "execution_count": 123,
   "metadata": {},
   "outputs": [
    {
     "data": {
      "image/png": "[encoded data removed]",
      "text/plain": [
       "<Figure size 432x288 with 1 Axes>"
      ]
     },
     "metadata": {
      "needs_background": "light"
     },
     "output_type": "display_data"
    }
   ],
   "source": [
    "\n",
    "window = 15\n",
    "#seq_one = str(rec_one.seq).upper()\n",
    "#seq_two = str(rec_two.seq).upper()\n",
    "\n",
    "seq_one = str(seqa).upper()\n",
    "seq_two = str(seqb).upper()\n",
    "\n",
    "data = [\n",
    "    [\n",
    "        (seq_one[i : i + window] != seq_two[j : j + window])\n",
    "        for j in range(len(seq_one) - window)\n",
    "    ]\n",
    "    for i in range(len(seq_two) - window)\n",
    "]\n",
    "\n",
    "import pylab\n",
    "\n",
    "pylab.gray()\n",
    "pylab.imshow(data)\n",
    "#pylab.xlabel(\"%s (length %i bp)\" % (rec_one.id, len(rec_one)))\n",
    "#pylab.ylabel(\"%s (length %i bp)\" % (rec_two.id, len(rec_two)))\n",
    "pylab.xlabel(\"seqa\")\n",
    "pylab.ylabel(\"seqb\")\n",
    "\n",
    "\n",
    "pylab.title(\"Dot plot using window size %i\\n(allowing no mis-matches)\" % window)\n",
    "pylab.show()"
   ]
  },
  {
   "cell_type": "code",
   "execution_count": 124,
   "metadata": {},
   "outputs": [
    {
     "name": "stdout",
     "output_type": "stream",
     "text": [
      "89 unique matches\n"
     ]
    }
   ],
   "source": [
    "window = 7\n",
    "dict_one = {}\n",
    "dict_two = {}\n",
    "for (seq, section_dict) in [\n",
    "    (seqa.upper(), dict_one),\n",
    "    (seqb.upper(), dict_two),\n",
    "]:\n",
    "    for i in range(len(seq) - window):\n",
    "        section = seq[i : i + window]\n",
    "        try:\n",
    "            section_dict[section].append(i)\n",
    "        except KeyError:\n",
    "            section_dict[section] = [i]\n",
    "# Now find any sub-sequences found in both sequences\n",
    "matches = set(dict_one).intersection(dict_two)\n",
    "print(\"%i unique matches\" % len(matches))"
   ]
  },
  {
   "cell_type": "code",
   "execution_count": 125,
   "metadata": {},
   "outputs": [],
   "source": [
    "# Create lists of x and y co-ordinates for scatter plot\n",
    "x = []\n",
    "y = []\n",
    "for section in matches:\n",
    "    for i in dict_one[section]:\n",
    "        for j in dict_two[section]:\n",
    "            x.append(i)\n",
    "            y.append(j)"
   ]
  },
  {
   "cell_type": "code",
   "execution_count": 126,
   "metadata": {},
   "outputs": [
    {
     "data": {
      "image/png": "[encoded data removed]",
      "text/plain": [
       "<Figure size 432x288 with 1 Axes>"
      ]
     },
     "metadata": {
      "needs_background": "light"
     },
     "output_type": "display_data"
    }
   ],
   "source": [
    "import pylab\n",
    "\n",
    "pylab.cla()  # clear any prior graph\n",
    "pylab.gray()\n",
    "pylab.scatter(x, y)\n",
    "pylab.xlim(0, len(seqa) - window)\n",
    "pylab.ylim(0, len(seqb) - window)\n",
    "pylab.xlabel(\"seqa\")\n",
    "pylab.ylabel(\"seqb\")\n",
    "pylab.title(\"Dot plot using window size %i\\n(allowing no mis-matches)\" % window)\n",
    "pylab.show()"
   ]
  },
  {
   "cell_type": "markdown",
   "metadata": {},
   "source": [
    "## Local scoring"
   ]
  },
  {
   "cell_type": "markdown",
   "metadata": {},
   "source": [
    "#### Binding receptor protein"
   ]
  },
  {
   "cell_type": "markdown",
   "metadata": {},
   "source": [
    "### More on this lower in the report"
   ]
  },
  {
   "cell_type": "code",
   "execution_count": 129,
   "metadata": {},
   "outputs": [],
   "source": [
    "chainA6LGZ = \"STIEEQAKTFLDKFNHEAEDLFYQSSLASWNYNTNITEENVQNMNNAGDKWSAFLKEQSTLAQMYPLQEIQNLTVKLQLQALQQNGSSVLSEDKSKRLNTILNTMSTIYSTGKVCNPDNPQECLLLEPGLNEIMANSLDYNERLWAWESWRSEVGKQLRPLYEEYVVLKNEMARANHYEDYGDYWRGDYEVNGVDGYDYSRGQLIEDVEHTFEEIKPLYEHLHAYVRAKLMNAYPSYISPIGCLPAHLLGDMWGRFWTNLYSLTVPFGQKPNIDVTDAMVDQAWDAQRIFKEAEKFFVSVGLPNMTQGFWENSMLTDPGNVQKAVCHPTAWDLGKGDFRILMCTKVTMDDFLTAHHEMGHIQYDMAYAAQPFLLRNGANEGFHEAVGEIMSLSAATPKHLKSIGLLSPDFQEDNETEINFLLKQALTIVGTLPFTYMLEKWRWMVFKGEIPKDQWMKKWWEMKREIVGVVEPVPHDETYCDPASLFHVSNDYSFIRYYTRTLYQFQFQEALCQAAKHEGPLHKCDISNSTEAGQKLFNMLRLGKSEPWTLALENVVGAKNMNVRPLLNYFEPLFTWLKDQNKNSFVGWSTDWSPYA\""
   ]
  },
  {
   "cell_type": "code",
   "execution_count": 130,
   "metadata": {},
   "outputs": [],
   "source": [
    "local_score_list = []\n",
    "for x in compare_list:\n",
    "    score = local_aligner.score(x, chainA6LGZ)\n",
    "    local_score_list.append(score)"
   ]
  },
  {
   "cell_type": "code",
   "execution_count": 131,
   "metadata": {},
   "outputs": [
    {
     "data": {
      "text/plain": [
       "[110.0, 116.0, 130.0, 110.0, 110.0, 110.0, 110.0, 110.0]"
      ]
     },
     "execution_count": 131,
     "metadata": {},
     "output_type": "execute_result"
    }
   ],
   "source": [
    "local_score_list"
   ]
  },
  {
   "cell_type": "code",
   "execution_count": 132,
   "metadata": {},
   "outputs": [
    {
     "data": {
      "image/png": "[encoded data removed]",
      "text/plain": [
       "<Figure size 792x504 with 1 Axes>"
      ]
     },
     "metadata": {
      "needs_background": "light"
     },
     "output_type": "display_data"
    }
   ],
   "source": [
    "import matplotlib.pyplot as plt\n",
    "from matplotlib.pyplot import figure\n",
    "\n",
    "#figure(figsize=(15,15), dpi=80)\n",
    "#f = plt.figure()\n",
    "#f.set_figwidth(4)\n",
    "#f.set_figheight(1)\n",
    "\n",
    "fig = plt.figure()\n",
    "fig.set_figwidth(11)\n",
    "fig.set_figheight(7)\n",
    "ax = fig.add_axes([0,0,1,1])\n",
    "virus = [\"Delta CoV\",\n",
    "         \"Gamma CoV\",\n",
    "         \"OC43 Human\",\n",
    "         \"OC43 Ape\",\n",
    "         \"MERS Camel\",\n",
    "         \"MERS Human\",\n",
    "         \"SARS Human\",\n",
    "         \"SARS Bat\"]\n",
    "align_score = local_score_list\n",
    "ax.bar(virus,align_score)\n",
    "#plt.ylim([18000,22000])\n",
    "plt.show()"
   ]
  },
  {
   "cell_type": "markdown",
   "metadata": {},
   "source": [
    "### We can see that Gamma COV has a closer local alignment with the spike protein"
   ]
  },
  {
   "cell_type": "markdown",
   "metadata": {},
   "source": [
    "# Utilizing the EMBOSS tool for alignment"
   ]
  },
  {
   "cell_type": "markdown",
   "metadata": {},
   "source": [
    "Utilizing the Emboss suite became a problem. Utilizing the shell, Windows/Linux talking and then interacting between the Anaconda and VSCode I've used for the rest of the project led to issues that caused me to abandon this specific part of the alignment comparison. The tool itself is still useful and available online at:\n",
    "\n",
    "https://www.ebi.ac.uk/Tools/emboss/\n",
    "\n",
    "For pairwise alignment they utilize:\n",
    "\n",
    "Needle: Needleman-Wunsch algorithm\n",
    "\n",
    "Stretcher:Improved version of the Needleman-Wunsch algorithm that allows larger sequences to be globally aligned\n",
    "\n",
    "This specific use was specifically what I spent the most time on to utilize due to the large size of these nucleotide sequences. I plan to add some of the results utilized from the online tool in final results but became a huge time sink in this project. So I moved on from incorporating it directly into the notebook.\n",
    "\n",
    "Water: Smith-Waterman algorithm\n",
    "\n",
    "Matcher:local similarities between two sequences using a rigorous algorithm based on the LALIGN application\n",
    "This was another use that showed a great deal of promise, especially to break down these large sequences into more useable pieces. It's use in this notebook was abandoned for the same reason as Stretcher. \n",
    "\n",
    "However, this remains a great tool to utilize for analysis and we plan to try and find ways to integrate these tools into a notebook as a way to further this analysis in the future"
   ]
  },
  {
   "cell_type": "markdown",
   "metadata": {},
   "source": [
    "# Utilizing the CLUSTAL tool for alignment\n"
   ]
  },
  {
   "cell_type": "markdown",
   "metadata": {},
   "source": [
    "### Utilized for different elements in multi alignment"
   ]
  },
  {
   "cell_type": "code",
   "execution_count": 162,
   "metadata": {
    "collapsed": true
   },
   "outputs": [
    {
     "ename": "RuntimeError",
     "evalue": "generator didn't stop after throw()",
     "output_type": "error",
     "traceback": [
      "\u001b[1;31m---------------------------------------------------------------------------\u001b[0m",
      "\u001b[1;31mTypeError\u001b[0m                                 Traceback (most recent call last)",
      "\u001b[1;32m~\\anaconda3\\lib\\site-packages\\Bio\\File.py\u001b[0m in \u001b[0;36mas_handle\u001b[1;34m(handleish, mode, **kwargs)\u001b[0m\n\u001b[0;32m     72\u001b[0m         \u001b[1;32mwith\u001b[0m \u001b[0mopen\u001b[0m\u001b[1;33m(\u001b[0m\u001b[0mhandleish\u001b[0m\u001b[1;33m,\u001b[0m \u001b[0mmode\u001b[0m\u001b[1;33m,\u001b[0m \u001b[1;33m**\u001b[0m\u001b[0mkwargs\u001b[0m\u001b[1;33m)\u001b[0m \u001b[1;32mas\u001b[0m \u001b[0mfp\u001b[0m\u001b[1;33m:\u001b[0m\u001b[1;33m\u001b[0m\u001b[1;33m\u001b[0m\u001b[0m\n\u001b[1;32m---> 73\u001b[1;33m             \u001b[1;32myield\u001b[0m \u001b[0mfp\u001b[0m\u001b[1;33m\u001b[0m\u001b[1;33m\u001b[0m\u001b[0m\n\u001b[0m\u001b[0;32m     74\u001b[0m     \u001b[1;32mexcept\u001b[0m \u001b[0mTypeError\u001b[0m\u001b[1;33m:\u001b[0m\u001b[1;33m\u001b[0m\u001b[1;33m\u001b[0m\u001b[0m\n",
      "\u001b[1;32m~\\anaconda3\\lib\\site-packages\\Bio\\SeqIO\\__init__.py\u001b[0m in \u001b[0;36mwrite\u001b[1;34m(sequences, handle, format)\u001b[0m\n\u001b[0;32m    523\u001b[0m             \u001b[1;32mfor\u001b[0m \u001b[0mrecord\u001b[0m \u001b[1;32min\u001b[0m \u001b[0msequences\u001b[0m\u001b[1;33m:\u001b[0m\u001b[1;33m\u001b[0m\u001b[1;33m\u001b[0m\u001b[0m\n\u001b[1;32m--> 524\u001b[1;33m                 \u001b[0mfp\u001b[0m\u001b[1;33m.\u001b[0m\u001b[0mwrite\u001b[0m\u001b[1;33m(\u001b[0m\u001b[0mformat_function\u001b[0m\u001b[1;33m(\u001b[0m\u001b[0mrecord\u001b[0m\u001b[1;33m)\u001b[0m\u001b[1;33m)\u001b[0m\u001b[1;33m\u001b[0m\u001b[1;33m\u001b[0m\u001b[0m\n\u001b[0m\u001b[0;32m    525\u001b[0m                 \u001b[0mcount\u001b[0m \u001b[1;33m+=\u001b[0m \u001b[1;36m1\u001b[0m\u001b[1;33m\u001b[0m\u001b[1;33m\u001b[0m\u001b[0m\n",
      "\u001b[1;32m~\\anaconda3\\lib\\site-packages\\Bio\\SeqIO\\FastaIO.py\u001b[0m in \u001b[0;36mas_fasta\u001b[1;34m(record)\u001b[0m\n\u001b[0;32m    388\u001b[0m \u001b[1;33m\u001b[0m\u001b[0m\n\u001b[1;32m--> 389\u001b[1;33m     \u001b[0mdata\u001b[0m \u001b[1;33m=\u001b[0m \u001b[0m_get_seq_string\u001b[0m\u001b[1;33m(\u001b[0m\u001b[0mrecord\u001b[0m\u001b[1;33m)\u001b[0m  \u001b[1;31m# Catches sequence being None\u001b[0m\u001b[1;33m\u001b[0m\u001b[1;33m\u001b[0m\u001b[0m\n\u001b[0m\u001b[0;32m    390\u001b[0m     \u001b[1;32massert\u001b[0m \u001b[1;34m\"\\n\"\u001b[0m \u001b[1;32mnot\u001b[0m \u001b[1;32min\u001b[0m \u001b[0mdata\u001b[0m\u001b[1;33m\u001b[0m\u001b[1;33m\u001b[0m\u001b[0m\n",
      "\u001b[1;32m~\\anaconda3\\lib\\site-packages\\Bio\\SeqIO\\Interfaces.py\u001b[0m in \u001b[0;36m_get_seq_string\u001b[1;34m(record)\u001b[0m\n\u001b[0;32m    108\u001b[0m     \u001b[1;32melif\u001b[0m \u001b[1;32mnot\u001b[0m \u001b[0misinstance\u001b[0m\u001b[1;33m(\u001b[0m\u001b[0mrecord\u001b[0m\u001b[1;33m.\u001b[0m\u001b[0mseq\u001b[0m\u001b[1;33m,\u001b[0m \u001b[1;33m(\u001b[0m\u001b[0mSeq\u001b[0m\u001b[1;33m,\u001b[0m \u001b[0mMutableSeq\u001b[0m\u001b[1;33m)\u001b[0m\u001b[1;33m)\u001b[0m\u001b[1;33m:\u001b[0m\u001b[1;33m\u001b[0m\u001b[1;33m\u001b[0m\u001b[0m\n\u001b[1;32m--> 109\u001b[1;33m         \u001b[1;32mraise\u001b[0m \u001b[0mTypeError\u001b[0m\u001b[1;33m(\u001b[0m\u001b[1;34m\"SeqRecord (id=%s) has an invalid sequence.\"\u001b[0m \u001b[1;33m%\u001b[0m \u001b[0mrecord\u001b[0m\u001b[1;33m.\u001b[0m\u001b[0mid\u001b[0m\u001b[1;33m)\u001b[0m\u001b[1;33m\u001b[0m\u001b[1;33m\u001b[0m\u001b[0m\n\u001b[0m\u001b[0;32m    110\u001b[0m     \u001b[1;32mreturn\u001b[0m \u001b[0mstr\u001b[0m\u001b[1;33m(\u001b[0m\u001b[0mrecord\u001b[0m\u001b[1;33m.\u001b[0m\u001b[0mseq\u001b[0m\u001b[1;33m)\u001b[0m\u001b[1;33m\u001b[0m\u001b[1;33m\u001b[0m\u001b[0m\n",
      "\u001b[1;31mTypeError\u001b[0m: SeqRecord (id=human a229) has an invalid sequence.",
      "\nDuring handling of the above exception, another exception occurred:\n",
      "\u001b[1;31mRuntimeError\u001b[0m                              Traceback (most recent call last)",
      "\u001b[1;32m~\\AppData\\Local\\Temp/ipykernel_11280/2117400961.py\u001b[0m in \u001b[0;36m<module>\u001b[1;34m\u001b[0m\n\u001b[1;32m----> 1\u001b[1;33m \u001b[0mSeqIO\u001b[0m\u001b[1;33m.\u001b[0m\u001b[0mwrite\u001b[0m\u001b[1;33m(\u001b[0m\u001b[0mhums\u001b[0m\u001b[1;33m,\u001b[0m \u001b[1;34m\"DATA/humList.faa\"\u001b[0m\u001b[1;33m,\u001b[0m \u001b[1;34m\"fasta\"\u001b[0m\u001b[1;33m)\u001b[0m\u001b[1;33m\u001b[0m\u001b[1;33m\u001b[0m\u001b[0m\n\u001b[0m",
      "\u001b[1;32m~\\anaconda3\\lib\\site-packages\\Bio\\SeqIO\\__init__.py\u001b[0m in \u001b[0;36mwrite\u001b[1;34m(sequences, handle, format)\u001b[0m\n\u001b[0;32m    523\u001b[0m             \u001b[1;32mfor\u001b[0m \u001b[0mrecord\u001b[0m \u001b[1;32min\u001b[0m \u001b[0msequences\u001b[0m\u001b[1;33m:\u001b[0m\u001b[1;33m\u001b[0m\u001b[1;33m\u001b[0m\u001b[0m\n\u001b[0;32m    524\u001b[0m                 \u001b[0mfp\u001b[0m\u001b[1;33m.\u001b[0m\u001b[0mwrite\u001b[0m\u001b[1;33m(\u001b[0m\u001b[0mformat_function\u001b[0m\u001b[1;33m(\u001b[0m\u001b[0mrecord\u001b[0m\u001b[1;33m)\u001b[0m\u001b[1;33m)\u001b[0m\u001b[1;33m\u001b[0m\u001b[1;33m\u001b[0m\u001b[0m\n\u001b[1;32m--> 525\u001b[1;33m                 \u001b[0mcount\u001b[0m \u001b[1;33m+=\u001b[0m \u001b[1;36m1\u001b[0m\u001b[1;33m\u001b[0m\u001b[1;33m\u001b[0m\u001b[0m\n\u001b[0m\u001b[0;32m    526\u001b[0m         \u001b[1;32mreturn\u001b[0m \u001b[0mcount\u001b[0m\u001b[1;33m\u001b[0m\u001b[1;33m\u001b[0m\u001b[0m\n\u001b[0;32m    527\u001b[0m \u001b[1;33m\u001b[0m\u001b[0m\n",
      "\u001b[1;32m~\\anaconda3\\lib\\contextlib.py\u001b[0m in \u001b[0;36m__exit__\u001b[1;34m(self, type, value, traceback)\u001b[0m\n\u001b[0;32m    160\u001b[0m                     \u001b[1;32mreturn\u001b[0m \u001b[1;32mFalse\u001b[0m\u001b[1;33m\u001b[0m\u001b[1;33m\u001b[0m\u001b[0m\n\u001b[0;32m    161\u001b[0m                 \u001b[1;32mraise\u001b[0m\u001b[1;33m\u001b[0m\u001b[1;33m\u001b[0m\u001b[0m\n\u001b[1;32m--> 162\u001b[1;33m             \u001b[1;32mraise\u001b[0m \u001b[0mRuntimeError\u001b[0m\u001b[1;33m(\u001b[0m\u001b[1;34m\"generator didn't stop after throw()\"\u001b[0m\u001b[1;33m)\u001b[0m\u001b[1;33m\u001b[0m\u001b[1;33m\u001b[0m\u001b[0m\n\u001b[0m\u001b[0;32m    163\u001b[0m \u001b[1;33m\u001b[0m\u001b[0m\n\u001b[0;32m    164\u001b[0m \u001b[1;33m\u001b[0m\u001b[0m\n",
      "\u001b[1;31mRuntimeError\u001b[0m: generator didn't stop after throw()"
     ]
    }
   ],
   "source": [
    "SeqIO.write(hums, \"DATA/humList.faa\", \"fasta\")"
   ]
  },
  {
   "cell_type": "code",
   "execution_count": 154,
   "metadata": {},
   "outputs": [
    {
     "data": {
      "text/plain": [
       "SeqRecord(seq=('OL687293.1', 'OL687293.1', 'OL687293.1 |Severe acute respiratory syndrome coronavirus 2 isolate SARS-CoV-2/human/USA/CA-SLOPH-C0455/2021 ORF1ab polyprotein (ORF1ab), ORF1a polyprotein (ORF1ab), surface glycoprotein (S), ORF3a protein (ORF3a), envelope protein (E), membrane glycoprotein (M), ORF6 protein (ORF6), ORF7a protein (ORF7a), and ORF7b (ORF7b) genes, complete cds; ORF8 gene, complete sequence; nucleocapsid phosphoprotein (N) gene, complete cds; and ORF10 protein (ORF10) gene, partial cds', Seq('AGATCTGTTCTCTAAACGAACTTTAAAATCTGTGTGGCTGTCACTCGGCTGCAT...AAT'), 29598, 7), id='<unknown id>', name='<unknown name>', description='<unknown description>', dbxrefs=[])"
      ]
     },
     "execution_count": 154,
     "metadata": {},
     "output_type": "execute_result"
    }
   ],
   "source": [
    "human_multi_list[0]"
   ]
  },
  {
   "cell_type": "code",
   "execution_count": 143,
   "metadata": {},
   "outputs": [],
   "source": [
    "import os\n",
    "from Bio.Align.Applications import ClustalwCommandline\n",
    "#help(ClustalwCommandline)\n",
    "clustalw_exe = r\"C:\\Program Files (x86)\\ClustalW2\\clustalw2.exe\"\n",
    "clustalw_cline = ClustalwCommandline(clustalw_exe, infile=\"DATA/OC43human.fasta\")\n",
    "#clustalw_cline = ClustalwCommandline(clustalw_exe, infile=\"usadatafasta.fasta\")\n",
    "assert os.path.isfile(clustalw_exe), \"Clustal W executable missing\"\n",
    "stdout, stderr = clustalw_cline()"
   ]
  },
  {
   "cell_type": "code",
   "execution_count": null,
   "metadata": {},
   "outputs": [],
   "source": [
    "# the above creates \"my_example.aln\""
   ]
  },
  {
   "cell_type": "code",
   "execution_count": 144,
   "metadata": {},
   "outputs": [
    {
     "name": "stdout",
     "output_type": "stream",
     "text": [
      "Alignment with 94 rows and 845 columns\n",
      "CGTAACAAGGTTTCCGTAGGTGAACCTGCGGAAGGATCATTGTT...--- Z78527.1\n",
      "CGTAACAAGGTTTCCGTAGGTGAACCTGCGGAAGGATCATTGTT...TGT Z78526.1\n",
      "CGTAACAAGGTTTCCGTAGGTGAACCTGCGGAAGGATCATTGTT...GGC Z78532.1\n",
      "CGTAACAAGGTTTCCGTAGGTGAACCTGCGGAAGGATCATTGTT...AGC Z78524.1\n",
      "CGTAACAAGGTTTCCGTAGGTGAACCTGCGGAAGGATCATTGTT...--- Z78530.1\n",
      "-----------------ACGGCGAGCTGCCGAAGGA-CATTGTT...AA- Z78529.1\n",
      "----------------------------------------TGTT...--- Z78525.1\n",
      "CGTAACCAGGTTTCCGTAGGTGAACCTGCGGCAGGATCATTGTT...AG- Z78523.1\n",
      "CGTAACAAGGTTTCCGTAGGTGAACCTGCGGAAGGATCATTGTT...--- Z78522.1\n",
      "---------------GTAGGTGAACCTGCGGAAGGATCATTGTT...--- Z78521.1\n",
      "--------------------------------------------...--- Z78519.1\n",
      "CGTAACAAGGTTTCCGTAGGTGAACCTGCGGAAGGATCATTGTT...--- Z78520.1\n",
      "CGTAACAAGGTTTCCGTAGGTGAACCTGCGGAAGGATCATTGTT...--- Z78531.1\n",
      "CGTAACAAGGTTTCCGTAGGTGAACCTGCGGAAGGATCATTGTT...AGC Z78517.1\n",
      "CGTAACAAGGTTTCCGTAGGTGAACCTGCGGAAGGATCATTGTT...A-- Z78516.1\n",
      "CGTAACAAGGTTTCCGTAGGTGAACCTGCGGGAGGATCATTGTT...CC- Z78518.1\n",
      "CGTAACAAGGTTTCCGTAGGTGAACCTGCGGAAGGATCATTGAT...CGC Z78533.1\n",
      "CGTAACAAGGTTTCCGTAGGTGGACCTTCGGGAGGATCATTTTT...--- Z78514.1\n",
      "...\n",
      "CGTAACAAGGTTTCCGTAGGTGAACCTGCGGAAGGATCATTGTT...--- Z78443.1\n"
     ]
    }
   ],
   "source": [
    "align = AlignIO.read(\"my_example.aln\", \"clustal\")\n",
    "print(align)"
   ]
  },
  {
   "cell_type": "markdown",
   "metadata": {},
   "source": [
    "# 6LZG - RECEPTOR BINDING DOMAIN PROTEIN"
   ]
  },
  {
   "cell_type": "markdown",
   "metadata": {},
   "source": [
    "![](6LGZChimera.jpg)"
   ]
  },
  {
   "cell_type": "code",
   "execution_count": 163,
   "metadata": {},
   "outputs": [],
   "source": [
    "from Bio import motifs\n",
    "#from Bio.Tools import Translate\n",
    "#standard_translator = Translate.unambiguous_dna_by_id[1]"
   ]
  },
  {
   "cell_type": "code",
   "execution_count": 164,
   "metadata": {},
   "outputs": [],
   "source": [
    "chainA6LGZ = \"STIEEQAKTFLDKFNHEAEDLFYQSSLASWNYNTNITEENVQNMNNAGDKWSAFLKEQSTLAQMYPLQEIQNLTVKLQLQALQQNGSSVLSEDKSKRLNTILNTMSTIYSTGKVCNPDNPQECLLLEPGLNEIMANSLDYNERLWAWESWRSEVGKQLRPLYEEYVVLKNEMARANHYEDYGDYWRGDYEVNGVDGYDYSRGQLIEDVEHTFEEIKPLYEHLHAYVRAKLMNAYPSYISPIGCLPAHLLGDMWGRFWTNLYSLTVPFGQKPNIDVTDAMVDQAWDAQRIFKEAEKFFVSVGLPNMTQGFWENSMLTDPGNVQKAVCHPTAWDLGKGDFRILMCTKVTMDDFLTAHHEMGHIQYDMAYAAQPFLLRNGANEGFHEAVGEIMSLSAATPKHLKSIGLLSPDFQEDNETEINFLLKQALTIVGTLPFTYMLEKWRWMVFKGEIPKDQWMKKWWEMKREIVGVVEPVPHDETYCDPASLFHVSNDYSFIRYYTRTLYQFQFQEALCQAAKHEGPLHKCDISNSTEAGQKLFNMLRLGKSEPWTLALENVVGAKNMNVRPLLNYFEPLFTWLKDQNKNSFVGWSTDWSPYA\""
   ]
  },
  {
   "cell_type": "code",
   "execution_count": 165,
   "metadata": {},
   "outputs": [],
   "source": [
    "chainB6LGZ = \"RVQPTESIVRFPNITNLCPFGEVFNATRFASVYAWNRKRISNCVADYSVLYNSASFSTFKCYGVSPTKLNDLCFTNVYADSFVIRGDEVRQIAPGQTGKIADYNYKLPDDFTGCVIAWNSNNLDSKVGGNYNYLYRLFRKSNLKPFERDISTEIYQAGSTPCNGVEGFNCYFPLQSYGFQPTNGVGYQPYRVVVLSFELLHAPATVCGP\""
   ]
  },
  {
   "cell_type": "code",
   "execution_count": 166,
   "metadata": {},
   "outputs": [],
   "source": [
    "#Protein Secondary structure motifs utilized\n",
    "\n",
    "#from Bio.Alphabet import IUPAC\n",
    "helix_motifs = [Seq(\"accattgaagaacaggcgaaaacctttctg\".upper()),\n",
    "                Seq(\"tggagcgcgtttctgaaagaacagagcacc\".upper()),\n",
    "                Seq(\"cgcagcgaagtgggcaaacagctgcgcccg\".upper()),\n",
    "                Seq(\"tttctgaccgcgcatcatgaaatgggccat\".upper()),\n",
    "                Seq(\"gtgcgcccgctgctgaactattttgaaccg\".upper()),]"
   ]
  },
  {
   "cell_type": "code",
   "execution_count": 167,
   "metadata": {},
   "outputs": [],
   "source": [
    "beta_sheet_motifs =[Seq(\"aaagtgtgc\".upper()),\n",
    "                    Seq(\"tgcctgctg\".upper()),\n",
    "                    Seq(\"accgcgtgg\".upper()),\n",
    "                    Seq(\"ggctgcgtg\".upper()),\n",
    "                    Seq(\"acctttaaa\".upper()),]"
   ]
  },
  {
   "cell_type": "code",
   "execution_count": 168,
   "metadata": {},
   "outputs": [
    {
     "data": {
      "text/plain": [
       "[Seq('AAAGTGTGC'),\n",
       " Seq('TGCCTGCTG'),\n",
       " Seq('ACCGCGTGG'),\n",
       " Seq('GGCTGCGTG'),\n",
       " Seq('ACCTTTAAA')]"
      ]
     },
     "execution_count": 168,
     "metadata": {},
     "output_type": "execute_result"
    }
   ],
   "source": [
    "beta_sheet_motifs"
   ]
  },
  {
   "cell_type": "code",
   "execution_count": 169,
   "metadata": {},
   "outputs": [],
   "source": [
    "#china_receptor = Seq(world_dfname.at['China_Wuhan', 'Nucleotide'],IUPAC.unambiguous_dna)\n",
    "china_receptor = human_main"
   ]
  },
  {
   "cell_type": "code",
   "execution_count": 170,
   "metadata": {},
   "outputs": [
    {
     "data": {
      "text/plain": [
       "Seq('ATTAAAGGTT')"
      ]
     },
     "execution_count": 170,
     "metadata": {},
     "output_type": "execute_result"
    }
   ],
   "source": [
    "china_receptor[:10]"
   ]
  },
  {
   "cell_type": "code",
   "execution_count": 171,
   "metadata": {},
   "outputs": [],
   "source": [
    "mbeta = motifs.create(beta_sheet_motifs)\n",
    "mhelix = motifs.create(helix_motifs)\n",
    "#mtest = motifs.create(test)"
   ]
  },
  {
   "cell_type": "code",
   "execution_count": 172,
   "metadata": {},
   "outputs": [
    {
     "name": "stdout",
     "output_type": "stream",
     "text": [
      "AAAGTGTGC\n",
      "TGCCTGCTG\n",
      "ACCGCGTGG\n",
      "GGCTGCGTG\n",
      "ACCTTTAAA\n",
      "\n"
     ]
    }
   ],
   "source": [
    "print(mbeta)"
   ]
  },
  {
   "cell_type": "code",
   "execution_count": 173,
   "metadata": {},
   "outputs": [
    {
     "name": "stdout",
     "output_type": "stream",
     "text": [
      "        0      1      2      3      4      5      6      7      8\n",
      "A:   3.00   1.00   1.00   0.00   0.00   0.00   1.00   1.00   1.00\n",
      "C:   0.00   2.00   4.00   1.00   1.00   1.00   1.00   0.00   1.00\n",
      "G:   1.00   2.00   0.00   2.00   1.00   3.00   1.00   2.00   3.00\n",
      "T:   1.00   0.00   0.00   2.00   3.00   1.00   2.00   2.00   0.00\n",
      "\n"
     ]
    }
   ],
   "source": [
    "print(mbeta.counts)"
   ]
  },
  {
   "cell_type": "code",
   "execution_count": 174,
   "metadata": {},
   "outputs": [
    {
     "name": "stdout",
     "output_type": "stream",
     "text": [
      "        0      1      2      3      4      5      6      7      8      9     10     11     12     13     14     15     16     17     18     19     20     21     22     23     24     25     26     27     28     29\n",
      "A:   1.00   0.00   0.00   3.00   0.00   0.00   1.00   2.00   2.00   0.00   1.00   1.00   0.00   2.00   0.00   3.00   4.00   2.00   1.00   5.00   3.00   2.00   1.00   0.00   1.00   1.00   1.00   1.00   1.00   0.00\n",
      "C:   1.00   1.00   2.00   2.00   0.00   3.00   1.00   3.00   1.00   1.00   1.00   0.00   4.00   0.00   1.00   1.00   1.00   1.00   1.00   0.00   0.00   2.00   1.00   1.00   1.00   0.00   3.00   4.00   3.00   1.00\n",
      "G:   1.00   2.00   2.00   0.00   3.00   1.00   3.00   0.00   2.00   3.00   0.00   3.00   1.00   1.00   3.00   1.00   0.00   1.00   2.00   0.00   1.00   0.00   0.00   3.00   2.00   3.00   0.00   0.00   0.00   3.00\n",
      "T:   2.00   2.00   1.00   0.00   2.00   1.00   0.00   0.00   0.00   1.00   3.00   1.00   0.00   2.00   1.00   0.00   0.00   1.00   1.00   0.00   1.00   1.00   3.00   1.00   1.00   1.00   1.00   0.00   1.00   1.00\n",
      "\n"
     ]
    }
   ],
   "source": [
    "print(mhelix.counts)"
   ]
  },
  {
   "cell_type": "markdown",
   "metadata": {},
   "source": [
    "# Position Weighted Matrices"
   ]
  },
  {
   "cell_type": "markdown",
   "metadata": {},
   "source": [
    "### Position weighted matrix psuedocounts based on HIV viral research"
   ]
  },
  {
   "cell_type": "code",
   "execution_count": 175,
   "metadata": {},
   "outputs": [
    {
     "name": "stdout",
     "output_type": "stream",
     "text": [
      "        0      1      2      3      4      5      6      7      8\n",
      "A:   0.51   0.23   0.23   0.08   0.08   0.08   0.23   0.23   0.23\n",
      "C:   0.06   0.34   0.63   0.20   0.20   0.20   0.20   0.06   0.20\n",
      "G:   0.20   0.34   0.06   0.34   0.20   0.49   0.20   0.34   0.49\n",
      "T:   0.23   0.08   0.08   0.37   0.51   0.23   0.37   0.37   0.08\n",
      "\n"
     ]
    }
   ],
   "source": [
    "#Beta Strands\n",
    "\n",
    "pwmbeta = mbeta.counts.normalize(pseudocounts={'A':0.6, 'C': 0.43, 'G': 0.43, 'T': 0.6})\n",
    "print(pwmbeta)"
   ]
  },
  {
   "cell_type": "markdown",
   "metadata": {},
   "source": [
    "![](sheetconsensuslogo.jpg)"
   ]
  },
  {
   "cell_type": "code",
   "execution_count": 176,
   "metadata": {},
   "outputs": [
    {
     "data": {
      "text/plain": [
       "Seq('ACCTTGTTG')"
      ]
     },
     "execution_count": 176,
     "metadata": {},
     "output_type": "execute_result"
    }
   ],
   "source": [
    "pwmbeta.consensus"
   ]
  },
  {
   "cell_type": "code",
   "execution_count": 177,
   "metadata": {},
   "outputs": [
    {
     "name": "stdout",
     "output_type": "stream",
     "text": [
      "        0      1      2      3      4      5      6      7      8      9     10     11     12     13     14     15     16     17     18     19     20     21     22     23     24     25     26     27     28     29\n",
      "A:   0.23   0.08   0.08   0.51   0.08   0.08   0.23   0.37   0.37   0.08   0.23   0.23   0.08   0.37   0.08   0.51   0.65   0.37   0.23   0.79   0.51   0.37   0.23   0.08   0.23   0.23   0.23   0.23   0.23   0.08\n",
      "C:   0.20   0.20   0.34   0.34   0.06   0.49   0.20   0.49   0.20   0.20   0.20   0.06   0.63   0.06   0.20   0.20   0.20   0.20   0.20   0.06   0.06   0.34   0.20   0.20   0.20   0.06   0.49   0.63   0.49   0.20\n",
      "G:   0.20   0.34   0.34   0.06   0.49   0.20   0.49   0.06   0.34   0.49   0.06   0.49   0.20   0.20   0.49   0.20   0.06   0.20   0.34   0.06   0.20   0.06   0.06   0.49   0.34   0.49   0.06   0.06   0.06   0.49\n",
      "T:   0.37   0.37   0.23   0.08   0.37   0.23   0.08   0.08   0.08   0.23   0.51   0.23   0.08   0.37   0.23   0.08   0.08   0.23   0.23   0.08   0.23   0.23   0.51   0.23   0.23   0.23   0.23   0.08   0.23   0.23\n",
      "\n"
     ]
    }
   ],
   "source": [
    "#Helices\n",
    "\n",
    "pwmhelix = mhelix.counts.normalize(pseudocounts={'A':0.6, 'C': 0.43, 'G': 0.43, 'T': 0.6})\n",
    "print(pwmhelix)"
   ]
  },
  {
   "cell_type": "markdown",
   "metadata": {},
   "source": [
    "![](helixconsensuslogo.jpg)"
   ]
  },
  {
   "cell_type": "code",
   "execution_count": 178,
   "metadata": {},
   "outputs": [
    {
     "data": {
      "text/plain": [
       "Seq('TTCAGCGCAGTGCAGAAAGAAATGGGCCCG')"
      ]
     },
     "execution_count": 178,
     "metadata": {},
     "output_type": "execute_result"
    }
   ],
   "source": [
    "pwmhelix.consensus"
   ]
  },
  {
   "cell_type": "markdown",
   "metadata": {},
   "source": [
    "# Position-Specific Scoring Matrix"
   ]
  }
 ],
 "metadata": {
  "file_extension": ".py",
  "kernelspec": {
   "display_name": "Python 3 (ipykernel)",
   "language": "python",
   "name": "python3"
  },
  "language_info": {
   "codemirror_mode": {
    "name": "ipython",
    "version": 3
   },
   "file_extension": ".py",
   "mimetype": "text/x-python",
   "name": "python",
   "nbconvert_exporter": "python",
   "pygments_lexer": "ipython3",
   "version": "3.8.12"
  },
  "mimetype": "text/x-python",
  "name": "python",
  "npconvert_exporter": "python",
  "pygments_lexer": "ipython3",
  "version": 3
 },
 "nbformat": 4,
 "nbformat_minor": 2
}
